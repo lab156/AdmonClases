{
 "cells": [
  {
   "cell_type": "code",
   "execution_count": 1,
   "id": "a5259e02-03af-4338-854c-6c16b97edeea",
   "metadata": {},
   "outputs": [
    {
     "name": "stdout",
     "output_type": "stream",
     "text": [
      "AdmonClases\t  create_new_lecture.sh  Listado.csv\n",
      "config_correo.py  enviar_notas.sh\t mens_notas_acum.txt\n",
      "course_info\t  enviar_tareas.sh\t mens_tareas.txt\n"
     ]
    }
   ],
   "source": [
    "!ls ../.."
   ]
  },
  {
   "cell_type": "code",
   "execution_count": 2,
   "id": "8564223f-e66e-4129-82f7-fc845a9d10aa",
   "metadata": {},
   "outputs": [],
   "source": [
    "import pandas as pd\n",
    "import numpy as np\n",
    "import os\n",
    "from collections import Counter"
   ]
  },
  {
   "cell_type": "code",
   "execution_count": 3,
   "id": "6ae539b8-0337-4c09-a379-2273fed6b296",
   "metadata": {},
   "outputs": [],
   "source": [
    "%load_ext autoreload\n",
    "%autoreload 2\n",
    "import lector_notas as ln\n",
    "import listado_utils as lu"
   ]
  },
  {
   "cell_type": "code",
   "execution_count": 5,
   "id": "0626082b-8338-47a2-9abe-089a8262f9c1",
   "metadata": {
    "tags": []
   },
   "outputs": [
    {
     "data": {
      "text/html": [
       "<div>\n",
       "<style scoped>\n",
       "    .dataframe tbody tr th:only-of-type {\n",
       "        vertical-align: middle;\n",
       "    }\n",
       "\n",
       "    .dataframe tbody tr th {\n",
       "        vertical-align: top;\n",
       "    }\n",
       "\n",
       "    .dataframe thead th {\n",
       "        text-align: right;\n",
       "    }\n",
       "</style>\n",
       "<table border=\"1\" class=\"dataframe\">\n",
       "  <thead>\n",
       "    <tr style=\"text-align: right;\">\n",
       "      <th></th>\n",
       "      <th>Orientacion</th>\n",
       "      <th>Cuenta</th>\n",
       "      <th>Nombre1</th>\n",
       "      <th>Nombre2</th>\n",
       "      <th>Apellido1</th>\n",
       "      <th>Apellido2</th>\n",
       "      <th>Tel�fono</th>\n",
       "      <th>Correos</th>\n",
       "      <th>Identidad</th>\n",
       "      <th>NSP</th>\n",
       "      <th>APR</th>\n",
       "      <th>RPB</th>\n",
       "      <th>Indice</th>\n",
       "      <th>Estado</th>\n",
       "      <th>Eficiencia Terminal</th>\n",
       "      <th>Publicacion</th>\n",
       "    </tr>\n",
       "    <tr>\n",
       "      <th>Cohorte</th>\n",
       "      <th></th>\n",
       "      <th></th>\n",
       "      <th></th>\n",
       "      <th></th>\n",
       "      <th></th>\n",
       "      <th></th>\n",
       "      <th></th>\n",
       "      <th></th>\n",
       "      <th></th>\n",
       "      <th></th>\n",
       "      <th></th>\n",
       "      <th></th>\n",
       "      <th></th>\n",
       "      <th></th>\n",
       "      <th></th>\n",
       "      <th></th>\n",
       "    </tr>\n",
       "  </thead>\n",
       "  <tbody>\n",
       "    <tr>\n",
       "      <th>5</th>\n",
       "      <td>ESTADISTICA</td>\n",
       "      <td>MMM100501</td>\n",
       "      <td>EDGARD</td>\n",
       "      <td>GEOBANNY</td>\n",
       "      <td>AVILA</td>\n",
       "      <td>ZUNIGA</td>\n",
       "      <td>88609350</td>\n",
       "      <td>edgard.avila@unah.edu.hn</td>\n",
       "      <td>0501-1987-1601</td>\n",
       "      <td>0.0</td>\n",
       "      <td>2.0</td>\n",
       "      <td>0.0</td>\n",
       "      <td>0.0</td>\n",
       "      <td>MAT</td>\n",
       "      <td>No</td>\n",
       "      <td>No</td>\n",
       "    </tr>\n",
       "    <tr>\n",
       "      <th>5</th>\n",
       "      <td>INGENIERIA</td>\n",
       "      <td>MMM100502</td>\n",
       "      <td>DAVID</td>\n",
       "      <td>ARMANDO</td>\n",
       "      <td>AVILA</td>\n",
       "      <td>AGUILERA</td>\n",
       "      <td>32928262</td>\n",
       "      <td>aviladavid3292@gmail.com</td>\n",
       "      <td>06011-984-03359</td>\n",
       "      <td>0.0</td>\n",
       "      <td>2.0</td>\n",
       "      <td>0.0</td>\n",
       "      <td>0.0</td>\n",
       "      <td>MAT</td>\n",
       "      <td>No</td>\n",
       "      <td>No</td>\n",
       "    </tr>\n",
       "    <tr>\n",
       "      <th>5</th>\n",
       "      <td>INGENIERIA</td>\n",
       "      <td>MMM100503</td>\n",
       "      <td>SAIRA</td>\n",
       "      <td>YANELI</td>\n",
       "      <td>BARAHONA</td>\n",
       "      <td>SOTO</td>\n",
       "      <td>97630588</td>\n",
       "      <td>barahona.saira@yahoo.com</td>\n",
       "      <td>0801-1987-00592</td>\n",
       "      <td>0.0</td>\n",
       "      <td>2.0</td>\n",
       "      <td>0.0</td>\n",
       "      <td>0.0</td>\n",
       "      <td>MAT</td>\n",
       "      <td>No</td>\n",
       "      <td>No</td>\n",
       "    </tr>\n",
       "    <tr>\n",
       "      <th>5</th>\n",
       "      <td>INGENIERIA</td>\n",
       "      <td>MMM100504</td>\n",
       "      <td>ALDO</td>\n",
       "      <td>JOSUE</td>\n",
       "      <td>CARBALLO</td>\n",
       "      <td>CANALES</td>\n",
       "      <td>3173-4447</td>\n",
       "      <td>ajcarballoc@e.upnfm.edu.hn</td>\n",
       "      <td>0801-1997-09889</td>\n",
       "      <td>0.0</td>\n",
       "      <td>2.0</td>\n",
       "      <td>0.0</td>\n",
       "      <td>0.0</td>\n",
       "      <td>MAT</td>\n",
       "      <td>No</td>\n",
       "      <td>No</td>\n",
       "    </tr>\n",
       "    <tr>\n",
       "      <th>5</th>\n",
       "      <td>ESTADISTICA</td>\n",
       "      <td>MMM100505</td>\n",
       "      <td>ALLAN</td>\n",
       "      <td>MAURICIO</td>\n",
       "      <td>CORDOVA</td>\n",
       "      <td>MARTINEZ</td>\n",
       "      <td>99023944</td>\n",
       "      <td>allan.cordova@unah.edu.hn</td>\n",
       "      <td>0801-1993-03917</td>\n",
       "      <td>0.0</td>\n",
       "      <td>2.0</td>\n",
       "      <td>0.0</td>\n",
       "      <td>0.0</td>\n",
       "      <td>MAT</td>\n",
       "      <td>No</td>\n",
       "      <td>No</td>\n",
       "    </tr>\n",
       "  </tbody>\n",
       "</table>\n",
       "</div>"
      ],
      "text/plain": [
       "         Orientacion     Cuenta Nombre1   Nombre2  Apellido1 Apellido2  \\\n",
       "Cohorte                                                                  \n",
       "5        ESTADISTICA  MMM100501  EDGARD  GEOBANNY     AVILA     ZUNIGA   \n",
       "5         INGENIERIA  MMM100502   DAVID   ARMANDO     AVILA   AGUILERA   \n",
       "5         INGENIERIA  MMM100503   SAIRA    YANELI   BARAHONA      SOTO   \n",
       "5         INGENIERIA  MMM100504   ALDO     JOSUE   CARBALLO    CANALES   \n",
       "5        ESTADISTICA  MMM100505  ALLAN   MAURICIO    CORDOVA  MARTINEZ   \n",
       "\n",
       "          Tel�fono                     Correos        Identidad  NSP  APR  \\\n",
       "Cohorte                                                                     \n",
       "5         88609350    edgard.avila@unah.edu.hn   0501-1987-1601  0.0  2.0   \n",
       "5         32928262    aviladavid3292@gmail.com  06011-984-03359  0.0  2.0   \n",
       "5         97630588    barahona.saira@yahoo.com  0801-1987-00592  0.0  2.0   \n",
       "5        3173-4447  ajcarballoc@e.upnfm.edu.hn  0801-1997-09889  0.0  2.0   \n",
       "5         99023944   allan.cordova@unah.edu.hn  0801-1993-03917  0.0  2.0   \n",
       "\n",
       "         RPB  Indice Estado Eficiencia Terminal Publicacion  \n",
       "Cohorte                                                      \n",
       "5        0.0     0.0    MAT                  No          No  \n",
       "5        0.0     0.0    MAT                  No          No  \n",
       "5        0.0     0.0    MAT                  No          No  \n",
       "5        0.0     0.0    MAT                  No          No  \n",
       "5        0.0     0.0    MAT                  No          No  "
      ]
     },
     "execution_count": 5,
     "metadata": {},
     "output_type": "execute_result"
    }
   ],
   "source": [
    "Df = ln.LectorNotasCSV(\"../../Listado.csv\")\n",
    "Df.df.head()"
   ]
  },
  {
   "cell_type": "code",
   "execution_count": 7,
   "id": "335a3860-7dda-4e51-b1ae-9696432b7167",
   "metadata": {
    "tags": []
   },
   "outputs": [
    {
     "data": {
      "text/html": [
       "<div>\n",
       "<style scoped>\n",
       "    .dataframe tbody tr th:only-of-type {\n",
       "        vertical-align: middle;\n",
       "    }\n",
       "\n",
       "    .dataframe tbody tr th {\n",
       "        vertical-align: top;\n",
       "    }\n",
       "\n",
       "    .dataframe thead th {\n",
       "        text-align: right;\n",
       "    }\n",
       "</style>\n",
       "<table border=\"1\" class=\"dataframe\">\n",
       "  <thead>\n",
       "    <tr style=\"text-align: right;\">\n",
       "      <th></th>\n",
       "      <th>Orientacion</th>\n",
       "      <th>Cuenta</th>\n",
       "      <th>Nombre1</th>\n",
       "      <th>Nombre2</th>\n",
       "      <th>Apellido1</th>\n",
       "      <th>Apellido2</th>\n",
       "      <th>Tel�fono</th>\n",
       "      <th>Correos</th>\n",
       "      <th>Identidad</th>\n",
       "      <th>NSP</th>\n",
       "      <th>APR</th>\n",
       "      <th>RPB</th>\n",
       "      <th>Indice</th>\n",
       "      <th>Estado</th>\n",
       "      <th>Eficiencia Terminal</th>\n",
       "      <th>Publicacion</th>\n",
       "    </tr>\n",
       "  </thead>\n",
       "  <tbody>\n",
       "    <tr>\n",
       "      <th>5</th>\n",
       "      <td>ESTADISTICA</td>\n",
       "      <td>MMM100501</td>\n",
       "      <td>EDGARD</td>\n",
       "      <td>GEOBANNY</td>\n",
       "      <td>AVILA</td>\n",
       "      <td>ZUNIGA</td>\n",
       "      <td>88609350</td>\n",
       "      <td>edgard.avila@unah.edu.hn</td>\n",
       "      <td>0501-1987-1601</td>\n",
       "      <td>0.0</td>\n",
       "      <td>2.0</td>\n",
       "      <td>0.0</td>\n",
       "      <td>0.0</td>\n",
       "      <td>MAT</td>\n",
       "      <td>No</td>\n",
       "      <td>No</td>\n",
       "    </tr>\n",
       "    <tr>\n",
       "      <th>5</th>\n",
       "      <td>INGENIERIA</td>\n",
       "      <td>MMM100502</td>\n",
       "      <td>DAVID</td>\n",
       "      <td>ARMANDO</td>\n",
       "      <td>AVILA</td>\n",
       "      <td>AGUILERA</td>\n",
       "      <td>32928262</td>\n",
       "      <td>aviladavid3292@gmail.com</td>\n",
       "      <td>06011-984-03359</td>\n",
       "      <td>0.0</td>\n",
       "      <td>2.0</td>\n",
       "      <td>0.0</td>\n",
       "      <td>0.0</td>\n",
       "      <td>MAT</td>\n",
       "      <td>No</td>\n",
       "      <td>No</td>\n",
       "    </tr>\n",
       "    <tr>\n",
       "      <th>5</th>\n",
       "      <td>INGENIERIA</td>\n",
       "      <td>MMM100503</td>\n",
       "      <td>SAIRA</td>\n",
       "      <td>YANELI</td>\n",
       "      <td>BARAHONA</td>\n",
       "      <td>SOTO</td>\n",
       "      <td>97630588</td>\n",
       "      <td>barahona.saira@yahoo.com</td>\n",
       "      <td>0801-1987-00592</td>\n",
       "      <td>0.0</td>\n",
       "      <td>2.0</td>\n",
       "      <td>0.0</td>\n",
       "      <td>0.0</td>\n",
       "      <td>MAT</td>\n",
       "      <td>No</td>\n",
       "      <td>No</td>\n",
       "    </tr>\n",
       "    <tr>\n",
       "      <th>5</th>\n",
       "      <td>INGENIERIA</td>\n",
       "      <td>MMM100504</td>\n",
       "      <td>ALDO</td>\n",
       "      <td>JOSUE</td>\n",
       "      <td>CARBALLO</td>\n",
       "      <td>CANALES</td>\n",
       "      <td>3173-4447</td>\n",
       "      <td>ajcarballoc@e.upnfm.edu.hn</td>\n",
       "      <td>0801-1997-09889</td>\n",
       "      <td>0.0</td>\n",
       "      <td>2.0</td>\n",
       "      <td>0.0</td>\n",
       "      <td>0.0</td>\n",
       "      <td>MAT</td>\n",
       "      <td>No</td>\n",
       "      <td>No</td>\n",
       "    </tr>\n",
       "    <tr>\n",
       "      <th>5</th>\n",
       "      <td>ESTADISTICA</td>\n",
       "      <td>MMM100505</td>\n",
       "      <td>ALLAN</td>\n",
       "      <td>MAURICIO</td>\n",
       "      <td>CORDOVA</td>\n",
       "      <td>MARTINEZ</td>\n",
       "      <td>99023944</td>\n",
       "      <td>allan.cordova@unah.edu.hn</td>\n",
       "      <td>0801-1993-03917</td>\n",
       "      <td>0.0</td>\n",
       "      <td>2.0</td>\n",
       "      <td>0.0</td>\n",
       "      <td>0.0</td>\n",
       "      <td>MAT</td>\n",
       "      <td>No</td>\n",
       "      <td>No</td>\n",
       "    </tr>\n",
       "  </tbody>\n",
       "</table>\n",
       "</div>"
      ],
      "text/plain": [
       "   Orientacion     Cuenta Nombre1   Nombre2  Apellido1 Apellido2   Tel�fono  \\\n",
       "5  ESTADISTICA  MMM100501  EDGARD  GEOBANNY     AVILA     ZUNIGA   88609350   \n",
       "5   INGENIERIA  MMM100502   DAVID   ARMANDO     AVILA   AGUILERA   32928262   \n",
       "5   INGENIERIA  MMM100503   SAIRA    YANELI   BARAHONA      SOTO   97630588   \n",
       "5   INGENIERIA  MMM100504   ALDO     JOSUE   CARBALLO    CANALES  3173-4447   \n",
       "5  ESTADISTICA  MMM100505  ALLAN   MAURICIO    CORDOVA  MARTINEZ   99023944   \n",
       "\n",
       "                      Correos        Identidad  NSP  APR  RPB  Indice Estado  \\\n",
       "5    edgard.avila@unah.edu.hn   0501-1987-1601  0.0  2.0  0.0     0.0    MAT   \n",
       "5    aviladavid3292@gmail.com  06011-984-03359  0.0  2.0  0.0     0.0    MAT   \n",
       "5    barahona.saira@yahoo.com  0801-1987-00592  0.0  2.0  0.0     0.0    MAT   \n",
       "5  ajcarballoc@e.upnfm.edu.hn  0801-1997-09889  0.0  2.0  0.0     0.0    MAT   \n",
       "5   allan.cordova@unah.edu.hn  0801-1993-03917  0.0  2.0  0.0     0.0    MAT   \n",
       "\n",
       "  Eficiencia Terminal Publicacion  \n",
       "5                  No          No  \n",
       "5                  No          No  \n",
       "5                  No          No  \n",
       "5                  No          No  \n",
       "5                  No          No  "
      ]
     },
     "execution_count": 7,
     "metadata": {},
     "output_type": "execute_result"
    }
   ],
   "source": [
    "Df.df.index.name = None\n",
    "Df.df.head()"
   ]
  },
  {
   "cell_type": "code",
   "execution_count": 11,
   "id": "4cc6447d-8349-48a9-bc07-fe1d1e24006a",
   "metadata": {},
   "outputs": [
    {
     "name": "stdout",
     "output_type": "stream",
     "text": [
      "No se encontro un renglon con PAUTA\n"
     ]
    },
    {
     "ename": "KeyError",
     "evalue": "'Resul'",
     "output_type": "error",
     "traceback": [
      "\u001b[0;31m---------------------------------------------------------------------------\u001b[0m",
      "\u001b[0;31mKeyError\u001b[0m                                  Traceback (most recent call last)",
      "File \u001b[0;32m~/code/Stonking/LempiraDolar/env1/lib/python3.10/site-packages/pandas/core/indexes/base.py:3805\u001b[0m, in \u001b[0;36mIndex.get_loc\u001b[0;34m(self, key)\u001b[0m\n\u001b[1;32m   3804\u001b[0m \u001b[38;5;28;01mtry\u001b[39;00m:\n\u001b[0;32m-> 3805\u001b[0m     \u001b[38;5;28;01mreturn\u001b[39;00m \u001b[38;5;28;43mself\u001b[39;49m\u001b[38;5;241;43m.\u001b[39;49m\u001b[43m_engine\u001b[49m\u001b[38;5;241;43m.\u001b[39;49m\u001b[43mget_loc\u001b[49m\u001b[43m(\u001b[49m\u001b[43mcasted_key\u001b[49m\u001b[43m)\u001b[49m\n\u001b[1;32m   3806\u001b[0m \u001b[38;5;28;01mexcept\u001b[39;00m \u001b[38;5;167;01mKeyError\u001b[39;00m \u001b[38;5;28;01mas\u001b[39;00m err:\n",
      "File \u001b[0;32mindex.pyx:167\u001b[0m, in \u001b[0;36mpandas._libs.index.IndexEngine.get_loc\u001b[0;34m()\u001b[0m\n",
      "File \u001b[0;32mindex.pyx:196\u001b[0m, in \u001b[0;36mpandas._libs.index.IndexEngine.get_loc\u001b[0;34m()\u001b[0m\n",
      "File \u001b[0;32mpandas/_libs/hashtable_class_helper.pxi:7081\u001b[0m, in \u001b[0;36mpandas._libs.hashtable.PyObjectHashTable.get_item\u001b[0;34m()\u001b[0m\n",
      "File \u001b[0;32mpandas/_libs/hashtable_class_helper.pxi:7089\u001b[0m, in \u001b[0;36mpandas._libs.hashtable.PyObjectHashTable.get_item\u001b[0;34m()\u001b[0m\n",
      "\u001b[0;31mKeyError\u001b[0m: 'Resul'",
      "\nThe above exception was the direct cause of the following exception:\n",
      "\u001b[0;31mKeyError\u001b[0m                                  Traceback (most recent call last)",
      "Cell \u001b[0;32mIn[11], line 2\u001b[0m\n\u001b[1;32m      1\u001b[0m lis \u001b[38;5;241m=\u001b[39m ln\u001b[38;5;241m.\u001b[39mLectorNotasCSV(\u001b[38;5;124m\"\u001b[39m\u001b[38;5;124m../../Listado.csv\u001b[39m\u001b[38;5;124m\"\u001b[39m)\n\u001b[0;32m----> 2\u001b[0m \u001b[43mlis\u001b[49m\u001b[38;5;241;43m.\u001b[39;49m\u001b[43mresultado_stats\u001b[49m\u001b[43m(\u001b[49m\u001b[43m)\u001b[49m\n",
      "File \u001b[0;32m~/MisDocumentos/UNAH/Maestria/Matricula5taPromo/AdmonClases/scripts/lector_notas.py:246\u001b[0m, in \u001b[0;36mLectorNotasCSV.resultado_stats\u001b[0;34m(self, col, cnt_dict, print_summary)\u001b[0m\n\u001b[1;32m    244\u001b[0m Df \u001b[38;5;241m=\u001b[39m Df[\u001b[38;5;241m~\u001b[39mDf[\u001b[38;5;124m'\u001b[39m\u001b[38;5;124mNombre Completo\u001b[39m\u001b[38;5;124m'\u001b[39m]\u001b[38;5;241m.\u001b[39mstr\u001b[38;5;241m.\u001b[39mcontains(\u001b[38;5;124m'\u001b[39m\u001b[38;5;124mPAUTA\u001b[39m\u001b[38;5;124m'\u001b[39m)]\n\u001b[1;32m    245\u001b[0m cn \u001b[38;5;241m=\u001b[39m Counter(cnt_dict)\n\u001b[0;32m--> 246\u001b[0m cn\u001b[38;5;241m.\u001b[39mupdate(\u001b[38;5;28mlist\u001b[39m(\u001b[43mDf\u001b[49m\u001b[43m[\u001b[49m\u001b[38;5;124;43m'\u001b[39;49m\u001b[38;5;124;43mResul\u001b[39;49m\u001b[38;5;124;43m'\u001b[39;49m\u001b[43m]\u001b[49m))\n\u001b[1;32m    247\u001b[0m \u001b[38;5;28;01mif\u001b[39;00m print_summary:\n\u001b[1;32m    248\u001b[0m     Total \u001b[38;5;241m=\u001b[39m \u001b[38;5;28msum\u001b[39m(cn\u001b[38;5;241m.\u001b[39mvalues())\n",
      "File \u001b[0;32m~/code/Stonking/LempiraDolar/env1/lib/python3.10/site-packages/pandas/core/frame.py:4102\u001b[0m, in \u001b[0;36mDataFrame.__getitem__\u001b[0;34m(self, key)\u001b[0m\n\u001b[1;32m   4100\u001b[0m \u001b[38;5;28;01mif\u001b[39;00m \u001b[38;5;28mself\u001b[39m\u001b[38;5;241m.\u001b[39mcolumns\u001b[38;5;241m.\u001b[39mnlevels \u001b[38;5;241m>\u001b[39m \u001b[38;5;241m1\u001b[39m:\n\u001b[1;32m   4101\u001b[0m     \u001b[38;5;28;01mreturn\u001b[39;00m \u001b[38;5;28mself\u001b[39m\u001b[38;5;241m.\u001b[39m_getitem_multilevel(key)\n\u001b[0;32m-> 4102\u001b[0m indexer \u001b[38;5;241m=\u001b[39m \u001b[38;5;28;43mself\u001b[39;49m\u001b[38;5;241;43m.\u001b[39;49m\u001b[43mcolumns\u001b[49m\u001b[38;5;241;43m.\u001b[39;49m\u001b[43mget_loc\u001b[49m\u001b[43m(\u001b[49m\u001b[43mkey\u001b[49m\u001b[43m)\u001b[49m\n\u001b[1;32m   4103\u001b[0m \u001b[38;5;28;01mif\u001b[39;00m is_integer(indexer):\n\u001b[1;32m   4104\u001b[0m     indexer \u001b[38;5;241m=\u001b[39m [indexer]\n",
      "File \u001b[0;32m~/code/Stonking/LempiraDolar/env1/lib/python3.10/site-packages/pandas/core/indexes/base.py:3812\u001b[0m, in \u001b[0;36mIndex.get_loc\u001b[0;34m(self, key)\u001b[0m\n\u001b[1;32m   3807\u001b[0m     \u001b[38;5;28;01mif\u001b[39;00m \u001b[38;5;28misinstance\u001b[39m(casted_key, \u001b[38;5;28mslice\u001b[39m) \u001b[38;5;129;01mor\u001b[39;00m (\n\u001b[1;32m   3808\u001b[0m         \u001b[38;5;28misinstance\u001b[39m(casted_key, abc\u001b[38;5;241m.\u001b[39mIterable)\n\u001b[1;32m   3809\u001b[0m         \u001b[38;5;129;01mand\u001b[39;00m \u001b[38;5;28many\u001b[39m(\u001b[38;5;28misinstance\u001b[39m(x, \u001b[38;5;28mslice\u001b[39m) \u001b[38;5;28;01mfor\u001b[39;00m x \u001b[38;5;129;01min\u001b[39;00m casted_key)\n\u001b[1;32m   3810\u001b[0m     ):\n\u001b[1;32m   3811\u001b[0m         \u001b[38;5;28;01mraise\u001b[39;00m InvalidIndexError(key)\n\u001b[0;32m-> 3812\u001b[0m     \u001b[38;5;28;01mraise\u001b[39;00m \u001b[38;5;167;01mKeyError\u001b[39;00m(key) \u001b[38;5;28;01mfrom\u001b[39;00m \u001b[38;5;21;01merr\u001b[39;00m\n\u001b[1;32m   3813\u001b[0m \u001b[38;5;28;01mexcept\u001b[39;00m \u001b[38;5;167;01mTypeError\u001b[39;00m:\n\u001b[1;32m   3814\u001b[0m     \u001b[38;5;66;03m# If we have a listlike key, _check_indexing_error will raise\u001b[39;00m\n\u001b[1;32m   3815\u001b[0m     \u001b[38;5;66;03m#  InvalidIndexError. Otherwise we fall through and re-raise\u001b[39;00m\n\u001b[1;32m   3816\u001b[0m     \u001b[38;5;66;03m#  the TypeError.\u001b[39;00m\n\u001b[1;32m   3817\u001b[0m     \u001b[38;5;28mself\u001b[39m\u001b[38;5;241m.\u001b[39m_check_indexing_error(key)\n",
      "\u001b[0;31mKeyError\u001b[0m: 'Resul'"
     ]
    }
   ],
   "source": [
    "lis = ln.LectorNotasCSV(\"../../Listado.csv\")\n",
    "lis.resultado_stats()"
   ]
  },
  {
   "cell_type": "code",
   "execution_count": 6,
   "id": "fc500684-b751-4cca-8a56-a4673b596f3d",
   "metadata": {},
   "outputs": [
    {
     "ename": "NameError",
     "evalue": "name 'lis' is not defined",
     "output_type": "error",
     "traceback": [
      "\u001b[0;31m---------------------------------------------------------------------------\u001b[0m",
      "\u001b[0;31mNameError\u001b[0m                                 Traceback (most recent call last)",
      "Cell \u001b[0;32mIn[6], line 1\u001b[0m\n\u001b[0;32m----> 1\u001b[0m \u001b[43mlis\u001b[49m\u001b[38;5;241m.\u001b[39mdf[[\u001b[38;5;124m'\u001b[39m\u001b[38;5;124mCuenta\u001b[39m\u001b[38;5;124m'\u001b[39m, \u001b[38;5;124m'\u001b[39m\u001b[38;5;124mNombre Completo\u001b[39m\u001b[38;5;124m'\u001b[39m]]\n",
      "\u001b[0;31mNameError\u001b[0m: name 'lis' is not defined"
     ]
    }
   ],
   "source": [
    "lis.df[['Cuenta', 'Nombre Completo']]"
   ]
  },
  {
   "cell_type": "code",
   "execution_count": 112,
   "id": "fc4f8d74-12e4-4861-82ca-9f71c6cd41ff",
   "metadata": {},
   "outputs": [],
   "source": [
    "asist = lis.df[['Cuenta', 'Nombre Completo']].copy()\n",
    "cols_orig = [f\"T{n}\" for n in range(1,9)]\n",
    "#cols_mod = [f\"Semana {n+1}\" for n,it in enumerate(cols_orig)]\n",
    "\n",
    "for n, t in enumerate(cols_orig):\n",
    "    col = lis.df[t]\n",
    "    col = col.apply(lambda x: round(np.floor(x*4/10)))\n",
    "    asist[f\"Semana {n+1}\"] = col\n",
    "    #asist.insert(2,f\"Semana {n+1}\", col) \n",
    "asist.to_csv('../../SistemasDinamicos1/asistencia.csv')"
   ]
  },
  {
   "cell_type": "code",
   "execution_count": 100,
   "id": "69cc57ee-08e7-4271-b0d5-5b08f94f7bec",
   "metadata": {},
   "outputs": [],
   "source": [
    "listado = pd.read_excel(\"../../Listado.ods\")"
   ]
  },
  {
   "cell_type": "code",
   "execution_count": 5,
   "id": "2df41212-0a5d-4a2b-a11e-34d627c14da0",
   "metadata": {},
   "outputs": [
    {
     "data": {
      "text/plain": [
       "('../../Listado', '.ods')"
      ]
     },
     "execution_count": 5,
     "metadata": {},
     "output_type": "execute_result"
    }
   ],
   "source": [
    "os.path.splitext(\"../../Listado.ods\")"
   ]
  },
  {
   "cell_type": "code",
   "execution_count": 18,
   "id": "9d042ec5-21fd-4b59-ae1c-353569666f7f",
   "metadata": {},
   "outputs": [
    {
     "data": {
      "text/plain": [
       "[(None, 'correo'), ('hola', 'c2')]"
      ]
     },
     "execution_count": 18,
     "metadata": {},
     "output_type": "execute_result"
    }
   ],
   "source": [
    "list(zip([None, 'hola'], ['correo', 'c2']))"
   ]
  },
  {
   "cell_type": "code",
   "execution_count": 99,
   "id": "10c2f520-a719-4eb4-8429-7fd4597d1b1e",
   "metadata": {},
   "outputs": [
    {
     "data": {
      "text/plain": [
       "0     20161001202\n",
       "1     20161002936\n",
       "2     20161930059\n",
       "3     20021004564\n",
       "4     20161003633\n",
       "5     20171002520\n",
       "6     20191000019\n",
       "7     20161001197\n",
       "8     20151002204\n",
       "9     20181001344\n",
       "10    20161030725\n",
       "11    20172030501\n",
       "12    20191000852\n",
       "13    20191001656\n",
       "14    20121002780\n",
       "15    20181030395\n",
       "16    20181001717\n",
       "17    20181006261\n",
       "18    20181001520\n",
       "19    20181002627\n",
       "20    20031002349\n",
       "21    20201005775\n",
       "22    20191001612\n",
       "23    20141004148\n",
       "24    20111900414\n",
       "25    20152001730\n",
       "26             -1\n",
       "27             -1\n",
       "Name: Cuenta, dtype: object"
      ]
     },
     "execution_count": 99,
     "metadata": {},
     "output_type": "execute_result"
    }
   ],
   "source": [
    "listado['Cuenta'].fillna(-1).astype(np.int64).astype(str)"
   ]
  }
 ],
 "metadata": {
  "kernelspec": {
   "display_name": "Python 3 (ipykernel)",
   "language": "python",
   "name": "python3"
  },
  "language_info": {
   "codemirror_mode": {
    "name": "ipython",
    "version": 3
   },
   "file_extension": ".py",
   "mimetype": "text/x-python",
   "name": "python",
   "nbconvert_exporter": "python",
   "pygments_lexer": "ipython3",
   "version": "3.10.0rc1"
  }
 },
 "nbformat": 4,
 "nbformat_minor": 5
}
